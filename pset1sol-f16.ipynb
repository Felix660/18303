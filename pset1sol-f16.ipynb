{
 "cells": [
  {
   "cell_type": "markdown",
   "metadata": {},
   "source": [
    "# 18.303 pset 1 solutions\n",
    "\n",
    "These are the solutions for problem 2, the computational portion of the problem set.  For the solutions to the other problems, see the PDF file posted to the web page.\n",
    "\n",
    "## Problem 2\n",
    "\n",
    "We begin by making a random real-symmetric matrix, with the `randn` function to generate Gaussian-distributed entries:"
   ]
  },
  {
   "cell_type": "code",
   "execution_count": 1,
   "metadata": {
    "collapsed": false
   },
   "outputs": [
    {
     "data": {
      "text/plain": [
       "5x5 Array{Float64,2}:\n",
       "  0.768735  -1.95355    0.959372  -0.78639    0.675625\n",
       " -1.95355   -0.87322   -0.125788  -0.901366  -1.06813 \n",
       "  0.959372  -0.125788  -0.357172   0.201748  -0.347005\n",
       " -0.78639   -0.901366   0.201748   0.974272   0.222174\n",
       "  0.675625  -1.06813   -0.347005   0.222174  -1.66626 "
      ]
     },
     "execution_count": 1,
     "metadata": {},
     "output_type": "execute_result"
    }
   ],
   "source": [
    "A = full(Symmetric(randn(5,5)))"
   ]
  },
  {
   "cell_type": "markdown",
   "metadata": {},
   "source": [
    "### part (a): 10 points\n",
    "\n",
    "Compare the following:"
   ]
  },
  {
   "cell_type": "code",
   "execution_count": 2,
   "metadata": {
    "collapsed": false
   },
   "outputs": [
    {
     "data": {
      "text/plain": [
       "5-element Array{Float64,1}:\n",
       " -2.79271 \n",
       " -2.15493 \n",
       " -0.210511\n",
       "  1.41744 \n",
       "  2.58706 "
      ]
     },
     "execution_count": 2,
     "metadata": {},
     "output_type": "execute_result"
    }
   ],
   "source": [
    "eigvals(A)"
   ]
  },
  {
   "cell_type": "code",
   "execution_count": 3,
   "metadata": {
    "collapsed": false
   },
   "outputs": [
    {
     "data": {
      "text/plain": [
       "5-element Array{Float64,1}:\n",
       " -2.79271 \n",
       " -2.15493 \n",
       "  2.58706 \n",
       "  1.41744 \n",
       " -0.210511"
      ]
     },
     "execution_count": 3,
     "metadata": {},
     "output_type": "execute_result"
    }
   ],
   "source": [
    "Q,R = qr(A)\n",
    "eigvals(R*Q)"
   ]
  },
  {
   "cell_type": "markdown",
   "metadata": {},
   "source": [
    "They look the same (although the order is somewhat random, as is typical for numerical eigensolvers).  Let's check this quantitatively:"
   ]
  },
  {
   "cell_type": "code",
   "execution_count": 4,
   "metadata": {
    "collapsed": false
   },
   "outputs": [
    {
     "data": {
      "text/plain": [
       "1.9984014443252818e-15"
      ]
     },
     "execution_count": 4,
     "metadata": {},
     "output_type": "execute_result"
    }
   ],
   "source": [
    "norm(sort(eigvals(A)) - sort(eigvals(R*Q)))"
   ]
  },
  {
   "cell_type": "markdown",
   "metadata": {},
   "source": [
    "The difference is essentially zero; the small nonzero value on the order of $10^{-15}$ is due to roundoff errors, thanks to the computer's finite-precision [floating-point arithmetic](https://en.wikipedia.org/wiki/Floating_point).\n",
    "\n",
    "**Proof:** If $A = QR$, then $R = Q^{-1} A$.   Therefore, $RQ =Q^{-1} A Q$, which is a [similar matrix](https://en.wikipedia.org/wiki/Matrix_similarity) to $A$ by inspection.\n",
    "\n",
    "(Furthermore, since $Q^* = Q^{-1}$, we have $RQ = Q^* A Q$, so if $A=A^*$ then this is still true of $RQ$: this transformation preserves Hermitian-ness.  But I didn't ask you to prove that.)\n",
    "\n",
    "### part (b): 10 points\n",
    "\n",
    "As suggested, let us try doing this transformation repeatedly:"
   ]
  },
  {
   "cell_type": "code",
   "execution_count": 5,
   "metadata": {
    "collapsed": false
   },
   "outputs": [
    {
     "data": {
      "text/plain": [
       "5x5 Array{Float64,2}:\n",
       " -2.79271        4.49107e-16    7.18755e-16   5.54666e-17   1.27451e-16\n",
       " -1.5316e-322    2.58706        1.15245e-16  -2.97053e-16   8.91943e-17\n",
       "  4.44659e-323  -6.42285e-323  -2.15493       2.38545e-16   2.56529e-16\n",
       "  1.4822e-323    1.4822e-323    1.4822e-323   1.41744       5.42042e-17\n",
       "  0.0            0.0            0.0           0.0          -0.210511   "
      ]
     },
     "execution_count": 5,
     "metadata": {},
     "output_type": "execute_result"
    }
   ],
   "source": [
    "B = A\n",
    "for i = 1:100000\n",
    "    Q,R = qr(B)\n",
    "    B = R*Q\n",
    "end\n",
    "B"
   ]
  },
  {
   "cell_type": "markdown",
   "metadata": {},
   "source": [
    "All of the off-diagonal elements of $B$ are tiny: $B$ is converging to a **diagonal matrix**.   Furthermore, the **diagonal elements are the eigenvalues** of $A$ in descending order by magnitude!"
   ]
  },
  {
   "cell_type": "code",
   "execution_count": 6,
   "metadata": {
    "collapsed": false
   },
   "outputs": [
    {
     "data": {
      "text/plain": [
       "5-element Array{Float64,1}:\n",
       " -2.79271 \n",
       "  2.58706 \n",
       " -2.15493 \n",
       "  1.41744 \n",
       " -0.210511"
      ]
     },
     "execution_count": 6,
     "metadata": {},
     "output_type": "execute_result"
    }
   ],
   "source": [
    "diag(B)"
   ]
  },
  {
   "cell_type": "markdown",
   "metadata": {},
   "source": [
    "Proving why this works is a little bit tricky, although not terrible (it takes me a lecture or two in 18.335), but this amazing fact is the foundation of the [QR algorithm](https://en.wikipedia.org/wiki/QR_algorithm) for computing eigenvalues.   This (plus some additional tricks!) is essentially what the `eigvals` function is doing in Julia (or any other numerical linear-algebra library).\n",
    "\n",
    "In 18.06, you learned to compute eigenvalues by finding the roots of a characteristic polynomial $\\det(A - \\lambda I) = 0$. Unfortunately, this approach (implemented in the most straightforward way, at least) is nearly useless for any eigenproblem bigger than $2 \\times 2$."
   ]
  }
 ],
 "metadata": {
  "kernelspec": {
   "display_name": "Julia 0.4.6",
   "language": "julia",
   "name": "julia-0.4"
  },
  "language_info": {
   "file_extension": ".jl",
   "mimetype": "application/julia",
   "name": "julia",
   "version": "0.4.6"
  }
 },
 "nbformat": 4,
 "nbformat_minor": 0
}
